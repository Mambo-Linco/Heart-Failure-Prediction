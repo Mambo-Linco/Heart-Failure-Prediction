{
  "nbformat": 4,
  "nbformat_minor": 0,
  "metadata": {
    "colab": {
      "provenance": []
    },
    "kernelspec": {
      "name": "python3",
      "display_name": "Python 3"
    },
    "language_info": {
      "name": "python"
    }
  },
  "cells": [
    {
      "cell_type": "code",
      "execution_count": 1,
      "metadata": {
        "id": "HgK6zkyQggFa"
      },
      "outputs": [],
      "source": [
        "import pandas as pd\n",
        "import numpy as np\n",
        "import matplotlib.pyplot as plt\n",
        "import seaborn as sns\n",
        "from sklearn.model_selection import train_test_split\n",
        "from sklearn.preprocessing import StandardScaler\n",
        "from sklearn.metrics import accuracy_score, classification_report, confusion_matrix\n",
        "from sklearn.ensemble import RandomForestClassifier, GradientBoostingClassifier\n",
        "from sklearn.svm import SVC\n",
        "from sklearn.linear_model import LogisticRegression\n",
        "from xgboost import XGBClassifier\n",
        "from imblearn.over_sampling import SMOTE"
      ]
    },
    {
      "cell_type": "code",
      "source": [
        "# Load the dataset\n",
        "df = pd.read_csv('heart_failure_clinical_records_dataset.csv')"
      ],
      "metadata": {
        "id": "ltrSopEEhX0W"
      },
      "execution_count": 2,
      "outputs": []
    },
    {
      "cell_type": "code",
      "source": [
        "# Basic info\n",
        "print(df.info())\n",
        "print(df.describe())\n",
        "print(df.isnull().sum())  # Check for missing values"
      ],
      "metadata": {
        "colab": {
          "base_uri": "https://localhost:8080/"
        },
        "id": "psjirZDphXxm",
        "outputId": "e457c27d-965a-4a2c-9380-5ff1c4d8a049"
      },
      "execution_count": 3,
      "outputs": [
        {
          "output_type": "stream",
          "name": "stdout",
          "text": [
            "<class 'pandas.core.frame.DataFrame'>\n",
            "RangeIndex: 299 entries, 0 to 298\n",
            "Data columns (total 13 columns):\n",
            " #   Column                    Non-Null Count  Dtype  \n",
            "---  ------                    --------------  -----  \n",
            " 0   age                       299 non-null    float64\n",
            " 1   anaemia                   299 non-null    int64  \n",
            " 2   creatinine_phosphokinase  299 non-null    int64  \n",
            " 3   diabetes                  299 non-null    int64  \n",
            " 4   ejection_fraction         299 non-null    int64  \n",
            " 5   high_blood_pressure       299 non-null    int64  \n",
            " 6   platelets                 299 non-null    float64\n",
            " 7   serum_creatinine          299 non-null    float64\n",
            " 8   serum_sodium              299 non-null    int64  \n",
            " 9   sex                       299 non-null    int64  \n",
            " 10  smoking                   299 non-null    int64  \n",
            " 11  time                      299 non-null    int64  \n",
            " 12  DEATH_EVENT               299 non-null    int64  \n",
            "dtypes: float64(3), int64(10)\n",
            "memory usage: 30.5 KB\n",
            "None\n",
            "              age     anaemia  creatinine_phosphokinase    diabetes  \\\n",
            "count  299.000000  299.000000                299.000000  299.000000   \n",
            "mean    60.833893    0.431438                581.839465    0.418060   \n",
            "std     11.894809    0.496107                970.287881    0.494067   \n",
            "min     40.000000    0.000000                 23.000000    0.000000   \n",
            "25%     51.000000    0.000000                116.500000    0.000000   \n",
            "50%     60.000000    0.000000                250.000000    0.000000   \n",
            "75%     70.000000    1.000000                582.000000    1.000000   \n",
            "max     95.000000    1.000000               7861.000000    1.000000   \n",
            "\n",
            "       ejection_fraction  high_blood_pressure      platelets  \\\n",
            "count         299.000000           299.000000     299.000000   \n",
            "mean           38.083612             0.351171  263358.029264   \n",
            "std            11.834841             0.478136   97804.236869   \n",
            "min            14.000000             0.000000   25100.000000   \n",
            "25%            30.000000             0.000000  212500.000000   \n",
            "50%            38.000000             0.000000  262000.000000   \n",
            "75%            45.000000             1.000000  303500.000000   \n",
            "max            80.000000             1.000000  850000.000000   \n",
            "\n",
            "       serum_creatinine  serum_sodium         sex    smoking        time  \\\n",
            "count         299.00000    299.000000  299.000000  299.00000  299.000000   \n",
            "mean            1.39388    136.625418    0.648829    0.32107  130.260870   \n",
            "std             1.03451      4.412477    0.478136    0.46767   77.614208   \n",
            "min             0.50000    113.000000    0.000000    0.00000    4.000000   \n",
            "25%             0.90000    134.000000    0.000000    0.00000   73.000000   \n",
            "50%             1.10000    137.000000    1.000000    0.00000  115.000000   \n",
            "75%             1.40000    140.000000    1.000000    1.00000  203.000000   \n",
            "max             9.40000    148.000000    1.000000    1.00000  285.000000   \n",
            "\n",
            "       DEATH_EVENT  \n",
            "count    299.00000  \n",
            "mean       0.32107  \n",
            "std        0.46767  \n",
            "min        0.00000  \n",
            "25%        0.00000  \n",
            "50%        0.00000  \n",
            "75%        1.00000  \n",
            "max        1.00000  \n",
            "age                         0\n",
            "anaemia                     0\n",
            "creatinine_phosphokinase    0\n",
            "diabetes                    0\n",
            "ejection_fraction           0\n",
            "high_blood_pressure         0\n",
            "platelets                   0\n",
            "serum_creatinine            0\n",
            "serum_sodium                0\n",
            "sex                         0\n",
            "smoking                     0\n",
            "time                        0\n",
            "DEATH_EVENT                 0\n",
            "dtype: int64\n"
          ]
        }
      ]
    },
    {
      "cell_type": "code",
      "source": [
        "# Check class distribution\n",
        "print(df['DEATH_EVENT'].value_counts())\n",
        "# 0    203\n",
        "# 1     96\n",
        "# The dataset is imbalanced (about 2:1 ratio)"
      ],
      "metadata": {
        "colab": {
          "base_uri": "https://localhost:8080/"
        },
        "id": "xqzTL2IthXvH",
        "outputId": "c9bbf37f-17b8-47f2-d3ef-1d370c0becfc"
      },
      "execution_count": 4,
      "outputs": [
        {
          "output_type": "stream",
          "name": "stdout",
          "text": [
            "DEATH_EVENT\n",
            "0    203\n",
            "1     96\n",
            "Name: count, dtype: int64\n"
          ]
        }
      ]
    },
    {
      "cell_type": "code",
      "source": [
        "# Feature engineering\n",
        "# Let's create some interaction terms that might be relevant\n",
        "df['age_ejection_fraction'] = df['age'] * df['ejection_fraction']\n",
        "df['creatinine_phosphokinase_serum_creatinine'] = df['creatinine_phosphokinase'] * df['serum_creatinine']"
      ],
      "metadata": {
        "id": "CNKlk5y8hXod"
      },
      "execution_count": 5,
      "outputs": []
    },
    {
      "cell_type": "code",
      "source": [
        "# Split into features and target\n",
        "X = df.drop('DEATH_EVENT', axis=1)\n",
        "y = df['DEATH_EVENT']"
      ],
      "metadata": {
        "id": "Inl6E1J1hXgR"
      },
      "execution_count": 6,
      "outputs": []
    },
    {
      "cell_type": "code",
      "source": [
        "# Split into train and test sets\n",
        "X_train, X_test, y_train, y_test = train_test_split(X, y, test_size=0.2, random_state=42, stratify=y)"
      ],
      "metadata": {
        "id": "1XdVg344hXdI"
      },
      "execution_count": 7,
      "outputs": []
    },
    {
      "cell_type": "code",
      "source": [
        "# Scale numerical features\n",
        "scaler = StandardScaler()\n",
        "num_cols = ['age', 'creatinine_phosphokinase', 'ejection_fraction', 'platelets',\n",
        "            'serum_creatinine', 'serum_sodium', 'time', 'age_ejection_fraction',\n",
        "            'creatinine_phosphokinase_serum_creatinine']\n",
        "\n",
        "X_train[num_cols] = scaler.fit_transform(X_train[num_cols])\n",
        "X_test[num_cols] = scaler.transform(X_test[num_cols])"
      ],
      "metadata": {
        "id": "FNqUGS_0hXYU"
      },
      "execution_count": 8,
      "outputs": []
    },
    {
      "cell_type": "code",
      "source": [
        "# Handle class imbalance with SMOTE\n",
        "smote = SMOTE(random_state=42)\n",
        "X_train_smote, y_train_smote = smote.fit_resample(X_train, y_train)"
      ],
      "metadata": {
        "id": "f4NMQVqBh9DD"
      },
      "execution_count": 9,
      "outputs": []
    },
    {
      "cell_type": "code",
      "source": [
        "# Initialize models\n",
        "models = {\n",
        "    'Random Forest': RandomForestClassifier(random_state=42),\n",
        "    'XGBoost': XGBClassifier(random_state=42, eval_metric='logloss'),\n",
        "    'SVM': SVC(random_state=42, probability=True),\n",
        "    'Gradient Boosting': GradientBoostingClassifier(random_state=42),\n",
        "    'Logistic Regression': LogisticRegression(random_state=42, max_iter=1000)\n",
        "}"
      ],
      "metadata": {
        "id": "ogHME_NGh8_2"
      },
      "execution_count": 10,
      "outputs": []
    },
    {
      "cell_type": "code",
      "source": [
        "# Train and evaluate models\n",
        "results = {}\n",
        "for name, model in models.items():\n",
        "    model.fit(X_train_smote, y_train_smote)\n",
        "    y_pred = model.predict(X_test)\n",
        "    accuracy = accuracy_score(y_test, y_pred)\n",
        "    results[name] = accuracy\n",
        "    print(f\"{name} Accuracy: {accuracy:.4f}\")\n",
        "    print(classification_report(y_test, y_pred))\n",
        "    print(confusion_matrix(y_test, y_pred))\n",
        "    print(\"\\n\")"
      ],
      "metadata": {
        "colab": {
          "base_uri": "https://localhost:8080/"
        },
        "id": "C-UrVMA7h88l",
        "outputId": "423bb978-2e83-47e0-d5f4-bbfab03943c3"
      },
      "execution_count": 11,
      "outputs": [
        {
          "output_type": "stream",
          "name": "stdout",
          "text": [
            "Random Forest Accuracy: 0.8333\n",
            "              precision    recall  f1-score   support\n",
            "\n",
            "           0       0.88      0.88      0.88        41\n",
            "           1       0.74      0.74      0.74        19\n",
            "\n",
            "    accuracy                           0.83        60\n",
            "   macro avg       0.81      0.81      0.81        60\n",
            "weighted avg       0.83      0.83      0.83        60\n",
            "\n",
            "[[36  5]\n",
            " [ 5 14]]\n",
            "\n",
            "\n",
            "XGBoost Accuracy: 0.8000\n",
            "              precision    recall  f1-score   support\n",
            "\n",
            "           0       0.84      0.88      0.86        41\n",
            "           1       0.71      0.63      0.67        19\n",
            "\n",
            "    accuracy                           0.80        60\n",
            "   macro avg       0.77      0.75      0.76        60\n",
            "weighted avg       0.80      0.80      0.80        60\n",
            "\n",
            "[[36  5]\n",
            " [ 7 12]]\n",
            "\n",
            "\n",
            "SVM Accuracy: 0.8000\n",
            "              precision    recall  f1-score   support\n",
            "\n",
            "           0       0.84      0.88      0.86        41\n",
            "           1       0.71      0.63      0.67        19\n",
            "\n",
            "    accuracy                           0.80        60\n",
            "   macro avg       0.77      0.75      0.76        60\n",
            "weighted avg       0.80      0.80      0.80        60\n",
            "\n",
            "[[36  5]\n",
            " [ 7 12]]\n",
            "\n",
            "\n",
            "Gradient Boosting Accuracy: 0.8167\n",
            "              precision    recall  f1-score   support\n",
            "\n",
            "           0       0.86      0.88      0.87        41\n",
            "           1       0.72      0.68      0.70        19\n",
            "\n",
            "    accuracy                           0.82        60\n",
            "   macro avg       0.79      0.78      0.79        60\n",
            "weighted avg       0.81      0.82      0.82        60\n",
            "\n",
            "[[36  5]\n",
            " [ 6 13]]\n",
            "\n",
            "\n",
            "Logistic Regression Accuracy: 0.7833\n",
            "              precision    recall  f1-score   support\n",
            "\n",
            "           0       0.85      0.83      0.84        41\n",
            "           1       0.65      0.68      0.67        19\n",
            "\n",
            "    accuracy                           0.78        60\n",
            "   macro avg       0.75      0.76      0.75        60\n",
            "weighted avg       0.79      0.78      0.78        60\n",
            "\n",
            "[[34  7]\n",
            " [ 6 13]]\n",
            "\n",
            "\n"
          ]
        }
      ]
    },
    {
      "cell_type": "code",
      "source": [
        "# Select best model\n",
        "best_model_name = max(results, key=results.get)\n",
        "best_model = models[best_model_name]\n",
        "print(f\"Best model is {best_model_name} with accuracy {results[best_model_name]:.4f}\")"
      ],
      "metadata": {
        "colab": {
          "base_uri": "https://localhost:8080/"
        },
        "id": "rSrSGwQ1h85T",
        "outputId": "66846592-aeba-40cd-8223-5ed5868ece17"
      },
      "execution_count": 12,
      "outputs": [
        {
          "output_type": "stream",
          "name": "stdout",
          "text": [
            "Best model is Random Forest with accuracy 0.8333\n"
          ]
        }
      ]
    },
    {
      "cell_type": "code",
      "source": [
        "# Feature importance for the best model (if applicable)\n",
        "if hasattr(best_model, 'feature_importances_'):\n",
        "    feature_importances = pd.DataFrame({\n",
        "        'Feature': X.columns,\n",
        "        'Importance': best_model.feature_importances_\n",
        "    }).sort_values('Importance', ascending=False)\n",
        "    print(feature_importances)"
      ],
      "metadata": {
        "colab": {
          "base_uri": "https://localhost:8080/"
        },
        "id": "7G1sP3tAh82D",
        "outputId": "46770177-b2de-4f58-cdc1-7ad93dec92ef"
      },
      "execution_count": 13,
      "outputs": [
        {
          "output_type": "stream",
          "name": "stdout",
          "text": [
            "                                      Feature  Importance\n",
            "11                                       time    0.304205\n",
            "7                            serum_creatinine    0.154598\n",
            "4                           ejection_fraction    0.110514\n",
            "12                      age_ejection_fraction    0.076428\n",
            "13  creatinine_phosphokinase_serum_creatinine    0.073805\n",
            "2                    creatinine_phosphokinase    0.063470\n",
            "0                                         age    0.060442\n",
            "6                                   platelets    0.057003\n",
            "8                                serum_sodium    0.053773\n",
            "9                                         sex    0.012645\n",
            "5                         high_blood_pressure    0.008694\n",
            "10                                    smoking    0.008684\n",
            "3                                    diabetes    0.008132\n",
            "1                                     anaemia    0.007606\n"
          ]
        }
      ]
    },
    {
      "cell_type": "code",
      "source": [
        "import joblib\n",
        "\n",
        "# Save the best model and scaler\n",
        "joblib.dump(best_model, 'heart_failure_model.pkl')\n",
        "joblib.dump(scaler, 'scaler.pkl')"
      ],
      "metadata": {
        "colab": {
          "base_uri": "https://localhost:8080/"
        },
        "id": "ptwNiDVTh8yk",
        "outputId": "246ce84d-c8a6-44df-82a7-28f328cccf14"
      },
      "execution_count": 14,
      "outputs": [
        {
          "output_type": "execute_result",
          "data": {
            "text/plain": [
              "['scaler.pkl']"
            ]
          },
          "metadata": {},
          "execution_count": 14
        }
      ]
    },
    {
      "cell_type": "code",
      "source": [],
      "metadata": {
        "id": "GCwhSZrQh8u9"
      },
      "execution_count": null,
      "outputs": []
    },
    {
      "cell_type": "code",
      "source": [],
      "metadata": {
        "id": "rZA6ZdGTh8r5"
      },
      "execution_count": null,
      "outputs": []
    },
    {
      "cell_type": "code",
      "source": [],
      "metadata": {
        "id": "6zovV21kh8oT"
      },
      "execution_count": null,
      "outputs": []
    },
    {
      "cell_type": "code",
      "source": [],
      "metadata": {
        "id": "G-mQllcFh8k0"
      },
      "execution_count": null,
      "outputs": []
    },
    {
      "cell_type": "code",
      "source": [],
      "metadata": {
        "id": "py9lku25h8iB"
      },
      "execution_count": null,
      "outputs": []
    }
  ]
}